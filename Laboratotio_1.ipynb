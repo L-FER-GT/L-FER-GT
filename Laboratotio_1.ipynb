{
  "nbformat": 4,
  "nbformat_minor": 0,
  "metadata": {
    "colab": {
      "name": "Laboratotio_1.ipynb",
      "provenance": [],
      "authorship_tag": "ABX9TyPue6lZhkLoI0HLZLcXNbur",
      "include_colab_link": true
    },
    "kernelspec": {
      "name": "python3",
      "display_name": "Python 3"
    },
    "language_info": {
      "name": "python"
    }
  },
  "cells": [
    {
      "cell_type": "markdown",
      "metadata": {
        "id": "view-in-github",
        "colab_type": "text"
      },
      "source": [
        "<a href=\"https://colab.research.google.com/github/L-FER-GT/L-FER-GT/blob/main/Laboratotio_1.ipynb\" target=\"_parent\"><img src=\"https://colab.research.google.com/assets/colab-badge.svg\" alt=\"Open In Colab\"/></a>"
      ]
    },
    {
      "cell_type": "code",
      "metadata": {
        "colab": {
          "base_uri": "https://localhost:8080/",
          "height": 607
        },
        "id": "y8XR6jNOrJE7",
        "outputId": "c2a94ad2-7864-41fb-e3e4-10a3fde56cfd"
      },
      "source": [
        "import matplotlib.pyplot as plt\n",
        "import math\n",
        "\n",
        "#Encuentra los puntos de la recta con el algoritmo DDA\n",
        "def Puntos_Recta(x0,y0,lim,m):\n",
        "  Puntos_X=[]#\n",
        "  Puntos_Y=[]\n",
        "  Puntos_X+=[x0]\n",
        "  Puntos_Y+=[y0]\n",
        "  for x in range(lim):\n",
        "    x0+=1\n",
        "    y0+=m\n",
        "    Puntos_X+=[x0]\n",
        "    Puntos_Y+=[math.floor(y0+0.5)]\n",
        "  return Puntos_X,Puntos_Y\n",
        "\n",
        "#Grafica los puntos de la recta\n",
        "def Graficar(i,f,puntos):\n",
        "  for x in range(len(puntos)):\n",
        "    plt.scatter(puntos[x][i], puntos[x][f],s=175, marker=\"s\")\n",
        "\n",
        "\n",
        "#----------------puntos inicial y final---------------\n",
        "x = [-6, 10]\n",
        "y = [7, -15]\n",
        "#------------------------------------------------------\n",
        "\n",
        "#Hallar la pendiente\n",
        "m=(y[1]-y[0])/(x[1]-x[0])\n",
        "\n",
        "#Definir el caso de el algoritmo DDA y hallamos los puntos de la recta\n",
        "Puntos_X=[]\n",
        "Puntos_Y=[]\n",
        "\n",
        "if(m<1 and m>-1):#para la pendiente menor a uno caso negativo y positivo\n",
        "  if(x[0]>x[1]):#nos aseguramos que la recta sea de izquierda a derecha\n",
        "    aux=x[0]\n",
        "    x[0]=x[1]\n",
        "    x[1]=aux\n",
        "    aux=y[0]\n",
        "    y[0]=y[1]\n",
        "    y[1]=aux\n",
        "  Puntos_X,Puntos_Y=Puntos_Recta(x[0],y[0],(x[1]-x[0]),m)\n",
        "\n",
        "else:#para la pendiente mayor a uno caso negativo y positivo\n",
        "  if(y[0]>y[1]):#nos aseguramos que la recta sea de abajo hacia arriba\n",
        "    aux=x[0]\n",
        "    x[0]=x[1]\n",
        "    x[1]=aux\n",
        "    aux=y[0]\n",
        "    y[0]=y[1]\n",
        "    y[1]=aux\n",
        "  Puntos_Y,Puntos_X=Puntos_Recta(y[0],x[0],(y[1]-y[0]),1/m)\n",
        "\n",
        "# Establece el tamaño (ratio)\n",
        "plt.figure(figsize=(10,10))\n",
        "\n",
        "plt.scatter(Puntos_X, Puntos_Y,s=175, marker=\"s\")\n",
        "\n",
        "# Limites X e Y\n",
        "plt.xlim(-20,20)\n",
        "plt.ylim(-20,20)\n",
        "\n",
        "#Titulo\n",
        "plt.title(\"Algortimo DDA\")\n",
        "\n",
        "# Ejes X e Y\n",
        "plt.axhline(c='red',lw=0.7)\n",
        "plt.axvline(c='red',lw=0.7)\n",
        "\n",
        "# Divisiones\n",
        "lineas_x , lineas_y = [] , []\n",
        "for i in range(-100,100):\n",
        "    lineas_x.append(i+0.5)\n",
        "    lineas_y.append(i+0.5)\n",
        "\n",
        "plt.vlines(x=lineas_x, ymin=-100, ymax=100, colors='red', lw=0.2)\n",
        "plt.hlines(y=lineas_y, xmin=-100, xmax=100, colors='red', lw=0.2)\n",
        "\n",
        "# Mostrar\n",
        "plt.show()"
      ],
      "execution_count": 30,
      "outputs": [
        {
          "output_type": "display_data",
          "data": {
            "image/png": "[encoded data removed]",
            "text/plain": [
              "<Figure size 720x720 with 1 Axes>"
            ]
          },
          "metadata": {
            "needs_background": "light"
          }
        }
      ]
    },
    {
      "cell_type": "code",
      "metadata": {
        "colab": {
          "base_uri": "https://localhost:8080/"
        },
        "id": "2fmWALdZX_Y0",
        "outputId": "a647a470-3570-4974-fd3e-92c66635c217"
      },
      "source": [
        "import math\n",
        "print(math.floor(5))"
      ],
      "execution_count": 21,
      "outputs": [
        {
          "output_type": "stream",
          "name": "stdout",
          "text": [
            "5\n"
          ]
        }
      ]
    }
  ]
}